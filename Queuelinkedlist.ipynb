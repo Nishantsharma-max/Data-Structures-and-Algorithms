{
 "cells": [
  {
   "cell_type": "markdown",
   "id": "33c42c04",
   "metadata": {},
   "source": [
    "Implementing Queue using LinkedList\n"
   ]
  },
  {
   "cell_type": "code",
   "execution_count": 44,
   "id": "551889c8",
   "metadata": {},
   "outputs": [],
   "source": [
    "class Node:\n",
    "     def __init__(self,value=None):\n",
    "          self.value=value\n",
    "          self.next=None\n",
    "     def __str__(self):\n",
    "          return str(self.value)\n",
    "\n",
    "class Linkedlist:\n",
    "     def __init__(self):\n",
    "          self.Head=None\n",
    "          self.Tail=None\n",
    "\n",
    "class Queue:\n",
    "     def __init__(self):\n",
    "          self.queue=Linkedlist()\n",
    "     \n",
    "     def __str__(self):\n",
    "          current=self.queue.Head\n",
    "          res=\"\"\n",
    "          while current is not None:\n",
    "               res+=f'{str(current.value)}  '\n",
    "               current=current.next\n",
    "          return res[:-2]\n",
    "     def enqueue(self,val):\n",
    "          node=Node(val)\n",
    "          if self.queue.Head is None:\n",
    "               self.queue.Head=node\n",
    "               self.queue.Tail=node\n",
    "          else:\n",
    "               self.queue.Tail.next=node\n",
    "               self.queue.Tail=node\n",
    "\n",
    "     def isEmpty(self):\n",
    "          if self.queue.Head==None:\n",
    "               return True\n",
    "          else:\n",
    "               return False\n",
    "          \n",
    "     def dequeue(self):\n",
    "          if not self.isEmpty():\n",
    "               if self.queue.Head==self.queue.Tail:\n",
    "                    self.queue.Head=None\n",
    "                    self.queue.Tail=None\n",
    "               else:\n",
    "                    self.queue.Head=self.queue.Head.next\n",
    "\n",
    "     def peek(self):\n",
    "          if not self.isEmpty():\n",
    "               return self.queue.Head.value\n",
    "          \n",
    "     def delete(self):\n",
    "          if not self.isEmpty():\n",
    "               self.queue.Head=None\n",
    "               self.queue.Tail=None\n",
    "               return \"queue deleted\"\n",
    "\n",
    "\n",
    "\n",
    "     "
   ]
  },
  {
   "cell_type": "code",
   "execution_count": 47,
   "id": "37273049",
   "metadata": {},
   "outputs": [
    {
     "name": "stdout",
     "output_type": "stream",
     "text": [
      "False\n",
      "False\n",
      "2\n",
      "queue deleted\n",
      "\n"
     ]
    }
   ],
   "source": [
    "test=Queue()\n",
    "test.enqueue(1)\n",
    "test.enqueue(2)\n",
    "test.enqueue(3)\n",
    "print(test.isEmpty())\n",
    "test.dequeue()\n",
    "print(test.isEmpty())\n",
    "print(test.peek())\n",
    "print(test.delete())\n",
    "print(test)"
   ]
  }
 ],
 "metadata": {
  "kernelspec": {
   "display_name": "Python 3",
   "language": "python",
   "name": "python3"
  },
  "language_info": {
   "codemirror_mode": {
    "name": "ipython",
    "version": 3
   },
   "file_extension": ".py",
   "mimetype": "text/x-python",
   "name": "python",
   "nbconvert_exporter": "python",
   "pygments_lexer": "ipython3",
   "version": "3.13.3"
  }
 },
 "nbformat": 4,
 "nbformat_minor": 5
}
