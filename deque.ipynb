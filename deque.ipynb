{
 "cells": [
  {
   "cell_type": "code",
   "execution_count": 9,
   "id": "f7ad51e7",
   "metadata": {},
   "outputs": [
    {
     "name": "stdout",
     "output_type": "stream",
     "text": [
      "deque([], maxlen=3)\n",
      "deque([2, 3, 4], maxlen=3)\n",
      "deque([3, 4], maxlen=3)\n",
      "deque([], maxlen=3)\n"
     ]
    }
   ],
   "source": [
    "from collections import deque\n",
    "custom_queue=deque(maxlen=3)\n",
    "print(custom_queue)\n",
    "custom_queue.append(1)\n",
    "custom_queue.append(2)\n",
    "custom_queue.append(3)\n",
    "custom_queue.append(4)\n",
    "print(custom_queue)\n",
    "custom_queue.popleft()\n",
    "print(custom_queue)\n",
    "custom_queue.clear()\n",
    "print(custom_queue)"
   ]
  }
 ],
 "metadata": {
  "kernelspec": {
   "display_name": "Python 3",
   "language": "python",
   "name": "python3"
  },
  "language_info": {
   "codemirror_mode": {
    "name": "ipython",
    "version": 3
   },
   "file_extension": ".py",
   "mimetype": "text/x-python",
   "name": "python",
   "nbconvert_exporter": "python",
   "pygments_lexer": "ipython3",
   "version": "3.13.3"
  }
 },
 "nbformat": 4,
 "nbformat_minor": 5
}
