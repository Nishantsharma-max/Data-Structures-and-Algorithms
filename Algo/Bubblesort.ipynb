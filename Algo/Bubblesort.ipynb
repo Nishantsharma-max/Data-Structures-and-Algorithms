{
 "cells": [
  {
   "cell_type": "code",
   "execution_count": 10,
   "id": "32cbdec3",
   "metadata": {},
   "outputs": [
    {
     "name": "stdout",
     "output_type": "stream",
     "text": [
      "5\n",
      "4\n",
      "3\n",
      "2\n",
      "1\n",
      "0\n"
     ]
    }
   ],
   "source": [
    "for i in range(5,-1,-1):\n",
    "     print(i)"
   ]
  },
  {
   "cell_type": "code",
   "execution_count": 14,
   "id": "8ec03543",
   "metadata": {},
   "outputs": [
    {
     "name": "stdout",
     "output_type": "stream",
     "text": [
      "[2, 3, 4, 5, 7, 7, 8]\n"
     ]
    }
   ],
   "source": [
    "def BubbleSort(lst):\n",
    "     for j in range(len(lst)-1,-1,-1):\n",
    "          for i in range(j):\n",
    "               if lst[i]>lst[i+1]:\n",
    "                    lst[i],lst[i+1]=lst[i+1],lst[i]\n",
    "     print(lst)\n",
    "\n",
    "\n",
    "BubbleSort([8,5,3,4,7,2,7])\n"
   ]
  }
 ],
 "metadata": {
  "kernelspec": {
   "display_name": "Python 3",
   "language": "python",
   "name": "python3"
  },
  "language_info": {
   "codemirror_mode": {
    "name": "ipython",
    "version": 3
   },
   "file_extension": ".py",
   "mimetype": "text/x-python",
   "name": "python",
   "nbconvert_exporter": "python",
   "pygments_lexer": "ipython3",
   "version": "3.13.3"
  }
 },
 "nbformat": 4,
 "nbformat_minor": 5
}
