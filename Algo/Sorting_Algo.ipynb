{
 "cells": [
  {
   "cell_type": "markdown",
   "id": "d7bcbdeb",
   "metadata": {},
   "source": [
    "Bubble Sort\n"
   ]
  },
  {
   "cell_type": "code",
   "execution_count": 15,
   "id": "8ec03543",
   "metadata": {},
   "outputs": [
    {
     "name": "stdout",
     "output_type": "stream",
     "text": [
      "[0, 1, 2, 3, 4, 5, 6, 7, 8, 9, 10]\n"
     ]
    }
   ],
   "source": [
    "def BubbleSort(lst):\n",
    "     for j in range(len(lst)-1,-1,-1):\n",
    "          for i in range(j):\n",
    "               if lst[i]>lst[i+1]:\n",
    "                    lst[i],lst[i+1]=lst[i+1],lst[i]\n",
    "     print(lst)\n",
    "\n",
    "\n",
    "BubbleSort([10,9,8,7,6,5,4,3,2,1,0])\n"
   ]
  },
  {
   "cell_type": "markdown",
   "id": "b4996137",
   "metadata": {},
   "source": [
    "Selection Sort"
   ]
  },
  {
   "cell_type": "code",
   "execution_count": 7,
   "id": "08be9596",
   "metadata": {},
   "outputs": [
    {
     "name": "stdout",
     "output_type": "stream",
     "text": [
      "[0, 1, 2, 3, 4, 5, 6, 7, 8, 9, 10]\n"
     ]
    }
   ],
   "source": [
    "def SelectionSort(lst):\n",
    "     for i in range(len(lst)):\n",
    "          for j  in range(i,len(lst)):\n",
    "               if lst[j]<lst[i]:\n",
    "                    lst[i],lst[j]=lst[j],lst[i]\n",
    "     print(lst)\n",
    "\n",
    "SelectionSort([10,9,8,7,6,5,4,3,2,1,0])"
   ]
  },
  {
   "cell_type": "markdown",
   "id": "b9b90c92",
   "metadata": {},
   "source": [
    "Insertation sort"
   ]
  },
  {
   "cell_type": "code",
   "execution_count": 4,
   "id": "21444dc9",
   "metadata": {},
   "outputs": [
    {
     "data": {
      "text/plain": [
       "[1, 2, 3, 4, 5]"
      ]
     },
     "execution_count": 4,
     "metadata": {},
     "output_type": "execute_result"
    }
   ],
   "source": [
    "def InsertionSort(lst):\n",
    "     for i in range(1,len(lst)):\n",
    "          v=lst[i]\n",
    "          j=i-1\n",
    "          while j>=0 and lst[j]>v:\n",
    "               lst[j+1]=lst[j]\n",
    "               j-=1\n",
    "          lst[j+1]=v\n",
    "     return lst\n",
    "\n",
    "\n",
    "InsertionSort([5,4,3,2,1])\n",
    "     "
   ]
  },
  {
   "cell_type": "markdown",
   "id": "6ea0e690",
   "metadata": {},
   "source": [
    "Bucket Sort\n"
   ]
  },
  {
   "cell_type": "code",
   "execution_count": 9,
   "id": "e512f205",
   "metadata": {},
   "outputs": [
    {
     "name": "stdout",
     "output_type": "stream",
     "text": [
      "[1, 2, 3, 4, 5]\n"
     ]
    }
   ],
   "source": [
    "import math\n",
    "def BucketSort(lst):\n",
    "     number_of_bucket=round(math.sqrt(len(lst)))\n",
    "     max_value=max(lst)\n",
    "     arr=[]\n",
    "     for i in range(number_of_bucket):\n",
    "          arr.append([])\n",
    "\n",
    "     for j in lst:\n",
    "          arr[math.ceil((j*number_of_bucket)/max_value)-1].append(j)\n",
    "     v=list(map(InsertionSort,arr))\n",
    "     res=[]\n",
    "     for i in v:\n",
    "          for j in i:\n",
    "               res.append(j)\n",
    "     print(res)\n",
    "BucketSort([5,4,3,2,1])\n",
    "\n",
    "\n",
    "     "
   ]
  },
  {
   "cell_type": "markdown",
   "id": "09fcd164",
   "metadata": {},
   "source": [
    "Merge sort"
   ]
  },
  {
   "cell_type": "code",
   "execution_count": 6,
   "id": "ec1adc98",
   "metadata": {},
   "outputs": [
    {
     "name": "stdout",
     "output_type": "stream",
     "text": [
      "[0, 1, 2, 3, 4, 5, 6, 7, 8, 9]\n"
     ]
    }
   ],
   "source": [
    "def merge(lst,l,m,r):\n",
    "     n1=m-l+1\n",
    "     n2=r-m\n",
    "\n",
    "     L=[0]*n1\n",
    "     R=[0]*n2\n",
    "\n",
    "     for i in range(0,n1):\n",
    "          L[i]=lst[l+i]\n",
    "     for j in range(0,n2):\n",
    "          R[j]=lst[m+1+j]\n",
    "\n",
    "     i=0\n",
    "     j=0\n",
    "     k=l\n",
    "     while i<n1 and j<n2:\n",
    "          if L[i]<=R[j]:\n",
    "               lst[k]=L[i]\n",
    "               i+=1\n",
    "          else:\n",
    "               lst[k]=R[j]\n",
    "               j+=1\n",
    "          k+=1\n",
    "     while i<n1:\n",
    "          lst[k]=L[i]\n",
    "          i+=1\n",
    "          k+=1\n",
    "     while j<n2:\n",
    "          lst[k]=R[j]\n",
    "          j+=1\n",
    "          k+=1\n",
    "\n",
    "def mergesort(lst,l,r):\n",
    "     if l<r:\n",
    "          m=(l+(r-1))//2\n",
    "          mergesort(lst,l,m)\n",
    "          mergesort(lst,m+1,r)\n",
    "          merge(lst,l,m,r)\n",
    "     return lst\n",
    "\n",
    "print(mergesort([9,8,7,6,5,4,3,2,1,0],0,9))\n",
    "\n",
    "          "
   ]
  },
  {
   "cell_type": "markdown",
   "id": "553e0a89",
   "metadata": {},
   "source": [
    "Quick sort"
   ]
  },
  {
   "cell_type": "code",
   "execution_count": 18,
   "id": "d025498a",
   "metadata": {},
   "outputs": [
    {
     "data": {
      "text/plain": [
       "[1, 2, 3, 4, 5, 6, 7]"
      ]
     },
     "execution_count": 18,
     "metadata": {},
     "output_type": "execute_result"
    }
   ],
   "source": [
    "def swap(lst,x,y):\n",
    "     lst[x],lst[y]=lst[y],lst[x]\n",
    "\n",
    "def pivort(lst,pivort_idx,end_idx):\n",
    "     j=pivort_idx\n",
    "     for i in range(pivort_idx+1,end_idx+1):\n",
    "          if lst[i]<lst[pivort_idx]:\n",
    "               j+=1\n",
    "               swap(lst,j,i)\n",
    "     swap(lst,pivort_idx,j)\n",
    "     return j\n",
    "\n",
    "def Quicksort(lst,first,last):\n",
    "     if first<last:\n",
    "          mid=pivort(lst,first,last)\n",
    "          Quicksort(lst,first,mid-1)\n",
    "          Quicksort(lst,mid+1,last)\n",
    "     return lst\n",
    "\n",
    "\n",
    "Quicksort([7,6,5,4,3,2,1],0,6)\n"
   ]
  }
 ],
 "metadata": {
  "kernelspec": {
   "display_name": "Python 3",
   "language": "python",
   "name": "python3"
  },
  "language_info": {
   "codemirror_mode": {
    "name": "ipython",
    "version": 3
   },
   "file_extension": ".py",
   "mimetype": "text/x-python",
   "name": "python",
   "nbconvert_exporter": "python",
   "pygments_lexer": "ipython3",
   "version": "3.13.3"
  }
 },
 "nbformat": 4,
 "nbformat_minor": 5
}
