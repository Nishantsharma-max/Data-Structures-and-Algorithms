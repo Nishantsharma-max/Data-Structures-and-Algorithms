{
 "cells": [
  {
   "cell_type": "markdown",
   "id": "9f875d6a",
   "metadata": {},
   "source": [
    "Simple tree"
   ]
  },
  {
   "cell_type": "code",
   "execution_count": 39,
   "id": "8afc918c",
   "metadata": {},
   "outputs": [
    {
     "name": "stdout",
     "output_type": "stream",
     "text": [
      "drinks\n",
      "   hot\n",
      "      tea\n",
      "         meotea\n",
      "         meomeotea\n",
      "      coffee\n",
      "      cocoa\n",
      "      milk\n",
      "   cold\n",
      "\n"
     ]
    }
   ],
   "source": [
    "class TreeNode:\n",
    "     def __init__ (self,data,children=[]):\n",
    "          self.data = data\n",
    "          self.children = children\n",
    "\n",
    "     def __str__(self,level=0):\n",
    "          ret = \"   \" * level + str(self.data) + \"\\n\"\n",
    "          for child in self.children:\n",
    "            ret += child.__str__(level + 1)\n",
    "          return ret\n",
    "\n",
    "     def addChild(self,child):\n",
    "          self.children.append(child)\n",
    "\n",
    "tree=TreeNode(\"drinks\",[])\n",
    "hot=TreeNode(\"hot\",[TreeNode(\"tea\" ,[TreeNode(\"meotea\"),TreeNode(\"meomeotea\")]),TreeNode(\"coffee\"),TreeNode(\"cocoa\"),TreeNode(\"milk\")])\n",
    "cold=TreeNode(\"cold\")\n",
    "tree.addChild(hot)\n",
    "tree.addChild(cold)\n",
    "print(tree)"
   ]
  },
  {
   "cell_type": "markdown",
   "id": "3bd285ae",
   "metadata": {},
   "source": [
    "Binary tree"
   ]
  },
  {
   "cell_type": "code",
   "execution_count": null,
   "id": "8876c006",
   "metadata": {},
   "outputs": [],
   "source": [
    "class TreeNode:\n",
    "     def __init__(self,data):\n",
    "          self.data=data\n",
    "          self.leftChild=None\n",
    "          self.rightChild=None"
   ]
  }
 ],
 "metadata": {
  "kernelspec": {
   "display_name": "Python 3",
   "language": "python",
   "name": "python3"
  },
  "language_info": {
   "codemirror_mode": {
    "name": "ipython",
    "version": 3
   },
   "file_extension": ".py",
   "mimetype": "text/x-python",
   "name": "python",
   "nbconvert_exporter": "python",
   "pygments_lexer": "ipython3",
   "version": "3.13.3"
  }
 },
 "nbformat": 4,
 "nbformat_minor": 5
}
