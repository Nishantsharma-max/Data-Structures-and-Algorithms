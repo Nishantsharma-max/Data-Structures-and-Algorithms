{
 "cells": [
  {
   "cell_type": "markdown",
   "id": "9f875d6a",
   "metadata": {},
   "source": [
    "Simple tree"
   ]
  },
  {
   "cell_type": "code",
   "execution_count": 2,
   "id": "8afc918c",
   "metadata": {},
   "outputs": [
    {
     "name": "stdout",
     "output_type": "stream",
     "text": [
      "drinks\n",
      "   hot\n",
      "      tea\n",
      "         meotea\n",
      "         meomeotea\n",
      "      coffee\n",
      "         capition\n",
      "      cocoa\n",
      "      milk\n",
      "   cold\n",
      "\n"
     ]
    }
   ],
   "source": [
    "class TreeNode:\n",
    "     def __init__ (self,data,children=[]):\n",
    "          self.data = data\n",
    "          self.children = children\n",
    "\n",
    "     def __str__(self,level=0):\n",
    "          ret = \"   \" * level + str(self.data) + \"\\n\"\n",
    "          for child in self.children:\n",
    "            ret += child.__str__(level + 1)\n",
    "          return ret\n",
    "\n",
    "     def addChild(self,child):\n",
    "          self.children.append(child)\n",
    "\n",
    "tree=TreeNode(\"drinks\",[])\n",
    "hot=TreeNode(\"hot\",[TreeNode(\"tea\" ,[TreeNode(\"meotea\"),TreeNode(\"meomeotea\")]),TreeNode(\"coffee\",[TreeNode(\"capition\")]),TreeNode(\"cocoa\"),TreeNode(\"milk\")])\n",
    "cold=TreeNode(\"cold\")\n",
    "tree.addChild(hot)\n",
    "tree.addChild(cold)\n",
    "print(tree)"
   ]
  },
  {
   "cell_type": "markdown",
   "id": "3bd285ae",
   "metadata": {},
   "source": [
    "Binary tree"
   ]
  },
  {
   "cell_type": "code",
   "execution_count": 3,
   "id": "8876c006",
   "metadata": {},
   "outputs": [],
   "source": [
    "class TreeNode:\n",
    "     def __init__(self,data):\n",
    "          self.data=data\n",
    "          self.leftChild=None\n",
    "          self.rightChild=None\n",
    "\n",
    "\n",
    "Bt=TreeNode(\"drinks\")\n",
    "hot=TreeNode(\"hot\")\n",
    "tea=TreeNode(\"tea\")\n",
    "coffee=TreeNode(\"coffee\")\n",
    "cold=TreeNode(\"cold\")\n",
    "coke=TreeNode(\"coke\")\n",
    "limka=TreeNode(\"limka\")\n",
    "aaditea=TreeNode(\"aaditea\")\n",
    "gingertea=TreeNode(\"gingertea\")\n",
    "capichino=TreeNode(\"capichino\")\n",
    "americano=TreeNode(\"americano\")\n",
    "Bt.leftChild=hot\n",
    "Bt.rightChild=cold\n",
    "hot.leftChild=tea\n",
    "hot.rightChild=coffee\n",
    "tea.leftChild=aaditea\n",
    "tea.rightChild=gingertea\n",
    "coffee.leftChild=capichino\n",
    "coffee.rightChild=americano\n",
    "cold.leftChild=coke\n",
    "cold.rightChild=limka\n",
    "\n",
    "\n",
    "\n"
   ]
  },
  {
   "cell_type": "markdown",
   "id": "ff81c67f",
   "metadata": {},
   "source": [
    "PREORDER TRANSVERSAL"
   ]
  },
  {
   "cell_type": "code",
   "execution_count": 4,
   "id": "6767c221",
   "metadata": {},
   "outputs": [
    {
     "name": "stdout",
     "output_type": "stream",
     "text": [
      "drinks\n",
      "hot\n",
      "tea\n",
      "aaditea\n",
      "gingertea\n",
      "coffee\n",
      "capichino\n",
      "americano\n",
      "cold\n",
      "coke\n",
      "limka\n"
     ]
    }
   ],
   "source": [
    "def preorder_transversal(root):\n",
    "     if not root:\n",
    "          return \n",
    "     print(root.data)\n",
    "     preorder_transversal(root.leftChild)\n",
    "     preorder_transversal(root.rightChild)\n",
    "\n",
    "\n",
    "preorder_transversal(Bt)"
   ]
  },
  {
   "cell_type": "markdown",
   "id": "3e058efd",
   "metadata": {},
   "source": [
    "INORDER TRANSVERSAL\n"
   ]
  },
  {
   "cell_type": "code",
   "execution_count": 5,
   "id": "f97a195a",
   "metadata": {},
   "outputs": [
    {
     "name": "stdout",
     "output_type": "stream",
     "text": [
      "aaditea\n",
      "tea\n",
      "gingertea\n",
      "hot\n",
      "capichino\n",
      "coffee\n",
      "americano\n",
      "drinks\n",
      "coke\n",
      "cold\n",
      "limka\n"
     ]
    }
   ],
   "source": [
    "def inorder_transversal(rootnode):\n",
    "     if not rootnode:\n",
    "          return \n",
    "     inorder_transversal(rootnode.leftChild)\n",
    "     print(rootnode.data)\n",
    "     inorder_transversal(rootnode.rightChild)\n",
    "inorder_transversal(Bt)"
   ]
  },
  {
   "cell_type": "markdown",
   "id": "54bcc620",
   "metadata": {},
   "source": [
    "POSTORDER TRANSVERSAL\n"
   ]
  },
  {
   "cell_type": "code",
   "execution_count": 6,
   "id": "e2c81dc7",
   "metadata": {},
   "outputs": [
    {
     "name": "stdout",
     "output_type": "stream",
     "text": [
      "aaditea\n",
      "gingertea\n",
      "tea\n",
      "capichino\n",
      "americano\n",
      "coffee\n",
      "hot\n",
      "coke\n",
      "limka\n",
      "cold\n",
      "drinks\n"
     ]
    }
   ],
   "source": [
    "def postorder_transversal(rootnode):\n",
    "     if not rootnode:\n",
    "          return \n",
    "     postorder_transversal(rootnode.leftChild)\n",
    "     postorder_transversal(rootnode.rightChild)\n",
    "     print(rootnode.data)\n",
    "\n",
    "postorder_transversal(Bt)"
   ]
  },
  {
   "cell_type": "markdown",
   "id": "cd123629",
   "metadata": {},
   "source": [
    "Queue using Linked List"
   ]
  },
  {
   "cell_type": "code",
   "execution_count": 7,
   "id": "6150a152",
   "metadata": {},
   "outputs": [],
   "source": [
    "class Node:\n",
    "     def __init__(self,value=None):\n",
    "          self.value=value\n",
    "          self.next=None\n",
    "     def __str__(self):\n",
    "          return str(self.value)\n",
    "\n",
    "class Linkedlist:\n",
    "     def __init__(self):\n",
    "          self.Head=None\n",
    "          self.Tail=None\n",
    "\n",
    "class Queue:\n",
    "     def __init__(self):\n",
    "          self.queue=Linkedlist()\n",
    "     \n",
    "     def __str__(self):\n",
    "          current=self.queue.Head\n",
    "          res=\"\"\n",
    "          while current is not None:\n",
    "               res+=f'{str(current.value)}  '\n",
    "               current=current.next\n",
    "          return res[:-2]\n",
    "     def enqueue(self,val):\n",
    "          node=Node(val)\n",
    "          if self.queue.Head is None:\n",
    "               self.queue.Head=node\n",
    "               self.queue.Tail=node\n",
    "          else:\n",
    "               self.queue.Tail.next=node\n",
    "               self.queue.Tail=node\n",
    "\n",
    "     def isEmpty(self):\n",
    "          if self.queue.Head==None:\n",
    "               return True\n",
    "          else:\n",
    "               return False\n",
    "          \n",
    "     def dequeue(self):\n",
    "          if not self.isEmpty():\n",
    "               delete=self.queue.Head\n",
    "               if self.queue.Head==self.queue.Tail:\n",
    "                    self.queue.Head=None\n",
    "                    self.queue.Tail=None\n",
    "               else:\n",
    "                    self.queue.Head=self.queue.Head.next\n",
    "          return delete\n",
    "\n",
    "     def peek(self):\n",
    "          if not self.isEmpty():\n",
    "               return self.queue.Head.value\n",
    "          \n",
    "     def delete(self):\n",
    "          if not self.isEmpty():\n",
    "               self.queue.Head=None\n",
    "               self.queue.Tail=None\n",
    "               return \"queue deleted\"\n",
    "\n",
    "\n"
   ]
  },
  {
   "cell_type": "markdown",
   "id": "b2a4dc9e",
   "metadata": {},
   "source": [
    "LEVEL ORDER TRANSVERSAL"
   ]
  },
  {
   "cell_type": "code",
   "execution_count": null,
   "id": "71fa8ad7",
   "metadata": {},
   "outputs": [
    {
     "name": "stdout",
     "output_type": "stream",
     "text": [
      "drinks\n",
      "hot\n",
      "cold\n",
      "tea\n",
      "coffee\n",
      "coke\n",
      "limka\n",
      "aaditea\n",
      "gingertea\n",
      "capichino\n",
      "americano\n"
     ]
    }
   ],
   "source": [
    "def level_order_transversal(rootnode):\n",
    "     if not rootnode:\n",
    "          return \n",
    "     else:\n",
    "          customQueue=Queue()\n",
    "          customQueue.enqueue(rootnode)\n",
    "          while not(customQueue.isEmpty()):\n",
    "               root=customQueue.dequeue()\n",
    "               print(root.value.data)\n",
    "               if root.value.leftChild is not None:\n",
    "                    customQueue.enqueue(root.value.leftChild)\n",
    "                    \n",
    "               if root.value.rightChild is not None:\n",
    "                    customQueue.enqueue(root.value.rightChild)\n",
    "\n",
    "\n",
    "level_order_transversal(Bt)"
   ]
  },
  {
   "cell_type": "markdown",
   "id": "20195f28",
   "metadata": {},
   "source": [
    "Searching a node in binary tree\n"
   ]
  },
  {
   "cell_type": "code",
   "execution_count": null,
   "id": "a457f02b",
   "metadata": {},
   "outputs": [
    {
     "name": "stdout",
     "output_type": "stream",
     "text": [
      "404 not found\n"
     ]
    }
   ],
   "source": [
    "def searchBT(rootnode,nodeval):\n",
    "     if not rootnode:\n",
    "          return \"binary tree doesn't exist\"\n",
    "     else:\n",
    "          customQueue=Queue()\n",
    "          customQueue.enqueue(rootnode)\n",
    "          while not(customQueue.isEmpty()):\n",
    "               root=customQueue.dequeue()\n",
    "               if root.value.data==nodeval:\n",
    "                    print(\"exist\")\n",
    "                    break\n",
    "               if root.value.leftChild is not None:\n",
    "                    customQueue.enqueue(root.value.leftChild)\n",
    "                    \n",
    "               if root.value.rightChild is not None:\n",
    "                    customQueue.enqueue(root.value.rightChild)\n",
    "          print(\"404 not found\")\n",
    "searchBT(Bt,\"limk\")\n"
   ]
  },
  {
   "cell_type": "markdown",
   "id": "31644094",
   "metadata": {},
   "source": [
    "Inserting a node in binary tree"
   ]
  },
  {
   "cell_type": "code",
   "execution_count": null,
   "id": "b20ac39b",
   "metadata": {},
   "outputs": [
    {
     "name": "stdout",
     "output_type": "stream",
     "text": [
      "drinks\n",
      "hot\n",
      "cold\n",
      "tea\n",
      "coffee\n",
      "coke\n",
      "limka\n",
      "aaditea\n",
      "gingertea\n",
      "capichino\n",
      "americano\n",
      "meo\n"
     ]
    }
   ],
   "source": [
    "def insertNodeBT(rootnode,newnode):\n",
    "     if not rootnode:\n",
    "          rootnode=newnode\n",
    "     else:\n",
    "          customQueue=Queue()\n",
    "          customQueue.enqueue(rootnode)\n",
    "          while not(customQueue.isEmpty()):\n",
    "               root=customQueue.dequeue()\n",
    "              \n",
    "               if root.value.leftChild is not None:\n",
    "                    customQueue.enqueue(root.value.leftChild)\n",
    "               else:\n",
    "                    root.value.leftChild=newnode\n",
    "                    break\n",
    "                    \n",
    "               if root.value.rightChild is not None:\n",
    "                    customQueue.enqueue(root.value.rightChild)\n",
    "               else:\n",
    "                    root.value.rightChild=newnode\n",
    "                    break\n",
    "\n",
    "            \n",
    "\n",
    "meo=TreeNode(\"meo\")\n",
    "insertNodeBT(Bt,meo)\n",
    "level_order_transversal(Bt)\n"
   ]
  },
  {
   "cell_type": "code",
   "execution_count": null,
   "id": "53a0aa13",
   "metadata": {},
   "outputs": [],
   "source": [
    "def getdeepestnode(rootnode):\n",
    "     if not rootnode:\n",
    "         return \n",
    "     else:\n",
    "          customQueue=Queue()\n",
    "          customQueue.enqueue(rootnode)\n",
    "          while not(customQueue.isEmpty()):\n",
    "               root=customQueue.dequeue()\n",
    "               if root.value.leftChild is not None:\n",
    "                    customQueue.enqueue(root.value.leftChild)\n",
    "                    \n",
    "               if root.value.rightChild is not None:\n",
    "                    customQueue.enqueue(root.value.rightChild)\n",
    "          return root.value\n",
    "\n",
    "def deletedeepestnode(rootnode,deepestnode):\n",
    "          if not rootnode:\n",
    "               return \n",
    "          else:\n",
    "               customQueue=Queue()\n",
    "               customQueue.enqueue(rootnode)\n",
    "               while not(customQueue.isEmpty()):\n",
    "                    root=customQueue.dequeue()\n",
    "                    if root.value == deepestnode:\n",
    "                         root.value=None\n",
    "                         return \n",
    "                    \n",
    "                    if root.value.leftChild == deepestnode:\n",
    "                         root.value.leftChild=None\n",
    "                         break    \n",
    "                    if root.value.leftChild is not None:\n",
    "                         customQueue.enqueue(root.value.leftChild)\n",
    "\n",
    "                    if root.value.rightChild == deepestnode:\n",
    "                         root.value.rightChild=None\n",
    "                         break \n",
    "                    if root.value.rightChild is not None:\n",
    "                         customQueue.enqueue(root.value.rightChild)\n",
    "\n",
    "# deletedeepestnode(Bt,getdeepestnode(Bt))\n",
    "# level_order_transversal(Bt)\n",
    "     "
   ]
  },
  {
   "cell_type": "markdown",
   "id": "d0ee2511",
   "metadata": {},
   "source": [
    "Delete Node in Bt"
   ]
  },
  {
   "cell_type": "code",
   "execution_count": null,
   "id": "bf85da54",
   "metadata": {},
   "outputs": [
    {
     "name": "stdout",
     "output_type": "stream",
     "text": [
      "drinks\n",
      "hot\n",
      "cold\n",
      "tea\n",
      "coffee\n",
      "coke\n",
      "meo\n",
      "aaditea\n",
      "gingertea\n",
      "capichino\n",
      "americano\n"
     ]
    }
   ],
   "source": [
    "def DelatenodeBt(rootnode,node):\n",
    "     if not rootnode:\n",
    "          return \"binary tree doesn't exist\"\n",
    "     else:\n",
    "          customQueue=Queue()\n",
    "          customQueue.enqueue(rootnode)\n",
    "          while not(customQueue.isEmpty()):\n",
    "               root=customQueue.dequeue()\n",
    "               if root.value.data==node:\n",
    "                    deepestnode=getdeepestnode(rootnode)\n",
    "                    root.value.data=deepestnode.data\n",
    "                    deletedeepestnode(rootnode,deepestnode)\n",
    "                    return\n",
    "               if root.value.leftChild is not None:\n",
    "                    customQueue.enqueue(root.value.leftChild)\n",
    "                    \n",
    "               if root.value.rightChild is not None:\n",
    "                    customQueue.enqueue(root.value.rightChild)\n",
    "\n",
    "DelatenodeBt(Bt,'limka')\n",
    "level_order_transversal(Bt)"
   ]
  },
  {
   "cell_type": "markdown",
   "id": "b93b4b82",
   "metadata": {},
   "source": [
    "delete binary tree\n"
   ]
  },
  {
   "cell_type": "code",
   "execution_count": null,
   "id": "f0070676",
   "metadata": {},
   "outputs": [
    {
     "name": "stdout",
     "output_type": "stream",
     "text": [
      "None\n"
     ]
    }
   ],
   "source": [
    "def deleteBt(rootnode):\n",
    "     if rootnode is None:\n",
    "          return\n",
    "     else:\n",
    "          rootnode.data=None\n",
    "          rootnode.leftChild=None\n",
    "          rootnode.rightChild=None\n",
    "          \n",
    "\n",
    "deleteBt(Bt)\n",
    "level_order_transversal(Bt)"
   ]
  },
  {
   "cell_type": "markdown",
   "id": "ed238d2e",
   "metadata": {},
   "source": [
    "implementation of binary tree using python list"
   ]
  },
  {
   "cell_type": "code",
   "execution_count": null,
   "id": "dfbcea18",
   "metadata": {},
   "outputs": [],
   "source": [
    "class BinaryTree:\n",
    "     def __init__(self,size):\n",
    "          self.customList=size * [None]\n",
    "          self.lastUsedIndex=0\n",
    "          self.maxSize=size\n",
    "\n",
    "     def insertNode(self,value):\n",
    "          if self.maxSize==self.lastUsedIndex+1:\n",
    "               return \"binarytree is full\"\n",
    "          else:\n",
    "               self.customList[self.lastUsedIndex+1]=value\n",
    "               self.lastUsedIndex+=1\n",
    "\n",
    "     def searchNode(self,value):\n",
    "          if self.lastUsedIndex==0:\n",
    "               return \"binary tree is empty\"\n",
    "          else:\n",
    "               for node in self.customList:\n",
    "                    if node==value:\n",
    "                         return \"exist\"\n",
    "               return \"not exist\"\n",
    "          \n",
    "     def preOrderTransversal(self,index):\n",
    "          if index>self.lastUsedIndex:\n",
    "               return \n",
    "          print(self.customList[index])\n",
    "          self.preOrderTransversal(2* index)\n",
    "          self.preOrderTransversal(2*index+1)\n",
    "\n",
    "     def inOrderTransversal(self,index):\n",
    "          if index>self.lastUsedIndex:\n",
    "               return\n",
    "          self.inOrderTransversal(2*index)\n",
    "          print(self.customList[index])\n",
    "          self.inOrderTransversal(2*index+1)\n",
    "\n",
    "     def postOrderTransversal(self,index):\n",
    "          if index>self.lastUsedIndex:\n",
    "               return\n",
    "          self.postOrderTransversal(2*index)\n",
    "          self.postOrderTransversal(2*index+1)\n",
    "          print(self.customList[index])\n",
    "\n",
    "     def levelOrderTransversal(self,index):\n",
    "          for i in range(index,self.lastUsedIndex+1):\n",
    "               print(self.customList[i])\n",
    "          \n",
    "     def deleteNode(self,value):\n",
    "          if self.lastUsedIndex==0:\n",
    "               return \"binary tree is empty\"\n",
    "          for i in range(1,self.lastUsedIndex+1):\n",
    "               if self.customList[i]==value:\n",
    "                    self.customList[i]=self.customList[self.lastUsedIndex]\n",
    "                    self.customList[self.lastUsedIndex]=None\n",
    "                    self.lastUsedIndex-=1\n",
    "                    return \"deleted\"\n",
    "          \n",
    "     def deleteBt(self):\n",
    "          self.customList=None\n",
    "          return \"binary tree is successfully deleted\"\n",
    "\n",
    "\n",
    "\n",
    "\n"
   ]
  },
  {
   "cell_type": "code",
   "execution_count": null,
   "id": "8af70392",
   "metadata": {},
   "outputs": [
    {
     "name": "stdout",
     "output_type": "stream",
     "text": [
      "deleted\n"
     ]
    },
    {
     "data": {
      "text/plain": [
       "[None, 'drinks', 'hot', 'cold', 'coffee', None, None, None]"
      ]
     },
     "execution_count": 15,
     "metadata": {},
     "output_type": "execute_result"
    }
   ],
   "source": [
    "newBT=BinaryTree(8)\n",
    "newBT.insertNode(\"drinks\")\n",
    "newBT.insertNode(\"hot\")\n",
    "newBT.insertNode(\"cold\")\n",
    "newBT.insertNode(\"tea\")\n",
    "newBT.insertNode(\"coffee\")\n",
    "# newBT.preOrderTransversal(1)\n",
    "# newBT.inOrderTransversal(1)\n",
    "# newBT.postOrderTransversal(1)\n",
    "# newBT.levelOrderTransversal(1)\n",
    "print(newBT.deleteNode(\"tea\"))\n",
    "newBT.customList"
   ]
  }
 ],
 "metadata": {
  "kernelspec": {
   "display_name": "Python 3",
   "language": "python",
   "name": "python3"
  },
  "language_info": {
   "codemirror_mode": {
    "name": "ipython",
    "version": 3
   },
   "file_extension": ".py",
   "mimetype": "text/x-python",
   "name": "python",
   "nbconvert_exporter": "python",
   "pygments_lexer": "ipython3",
   "version": "3.13.3"
  }
 },
 "nbformat": 4,
 "nbformat_minor": 5
}
