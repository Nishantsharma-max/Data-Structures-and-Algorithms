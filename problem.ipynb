{
 "cells": [
  {
   "cell_type": "code",
   "execution_count": 5,
   "id": "8afb9caf",
   "metadata": {},
   "outputs": [],
   "source": [
    "def Factorial(n):\n",
    "     if n==0:\n",
    "          return 1\n",
    "     else:\n",
    "          return Factorial(n-1)*n"
   ]
  },
  {
   "cell_type": "code",
   "execution_count": 7,
   "id": "3ff38578",
   "metadata": {},
   "outputs": [
    {
     "data": {
      "text/plain": [
       "3628800"
      ]
     },
     "execution_count": 7,
     "metadata": {},
     "output_type": "execute_result"
    }
   ],
   "source": [
    "Factorial(10)"
   ]
  },
  {
   "cell_type": "markdown",
   "id": "b91a3cbb",
   "metadata": {},
   "source": [
    "How to find sum of digits of a positive integer number using recursion ?\n"
   ]
  },
  {
   "cell_type": "code",
   "execution_count": 1,
   "id": "a52f3503",
   "metadata": {},
   "outputs": [],
   "source": [
    "def sum_of_digits(num):\n",
    "     assert num>=0 and int(num)==num, \"num should be a positive integer\"\n",
    "     if num<10:\n",
    "          return num\n",
    "     once=num%10\n",
    "     ques=num//10\n",
    "     return once+sum_of_digits(ques)\n",
    "     \n",
    "     "
   ]
  },
  {
   "cell_type": "code",
   "execution_count": 9,
   "id": "df89c229",
   "metadata": {},
   "outputs": [
    {
     "name": "stdout",
     "output_type": "stream",
     "text": [
      "100\n"
     ]
    }
   ],
   "source": [
    "print(sum_of_digits(1111111111111111111111111111111111111111111111111111111111111111111111111111111111111111111111111111))"
   ]
  },
  {
   "cell_type": "markdown",
   "id": "0f30c3ff",
   "metadata": {},
   "source": [
    "Calculate the power of a number using recursion ?"
   ]
  },
  {
   "cell_type": "code",
   "execution_count": null,
   "id": "28419e1e",
   "metadata": {},
   "outputs": [],
   "source": [
    "def power_of_num(num,pow):\n",
    "     assert pow>=0 and int(pow)==pow,\"power must be positive integer\"\n",
    "     if pow==1:\n",
    "          return num\n",
    "     if pow==0:\n",
    "          return 1\n",
    "     return num*power_of_num(num,pow-1)\n"
   ]
  },
  {
   "cell_type": "code",
   "execution_count": 18,
   "id": "7169e9de",
   "metadata": {},
   "outputs": [
    {
     "name": "stdout",
     "output_type": "stream",
     "text": [
      "1267650600228229401496703205376\n"
     ]
    }
   ],
   "source": [
    "print(power_of_num(2,100))"
   ]
  },
  {
   "cell_type": "markdown",
   "id": "d849da63",
   "metadata": {},
   "source": [
    "how to find greatest common divisor of two given number?\n"
   ]
  },
  {
   "cell_type": "code",
   "execution_count": 32,
   "id": "d165dc9b",
   "metadata": {},
   "outputs": [],
   "source": [
    "def GCD(n1,n2):\n",
    "     assert int(n1)==n1 and int(n2)==n2,'n1 and n2 must be integer'\n",
    "     if n1<0:\n",
    "          n1=-1*n1\n",
    "     if n2<0:\n",
    "          n2=-1*n2\n",
    "     if n1>n2:\n",
    "          if n1%n2==0:\n",
    "               return n2\n",
    "          return GCD(n2,n1%n2)\n",
    "     else:\n",
    "          if n2%n1==0:\n",
    "               return n1\n",
    "          return GCD(n1,n2%n1)\n",
    "     "
   ]
  },
  {
   "cell_type": "code",
   "execution_count": 33,
   "id": "7bc1b766",
   "metadata": {},
   "outputs": [
    {
     "name": "stdout",
     "output_type": "stream",
     "text": [
      "16\n"
     ]
    }
   ],
   "source": [
    "print(GCD(-16,64))"
   ]
  },
  {
   "cell_type": "markdown",
   "id": "a1e6776f",
   "metadata": {},
   "source": [
    "Converting Decimal number to binary"
   ]
  },
  {
   "cell_type": "code",
   "execution_count": 42,
   "id": "60fe9943",
   "metadata": {},
   "outputs": [],
   "source": [
    "def convert_to_binary(num):\n",
    "     assert int(num)==num, 'parmenter should be integer'\n",
    "     if num//2==0:\n",
    "          return num%2\n",
    "     return num%2 + 10*convert_to_binary(num//2)\n",
    "          "
   ]
  },
  {
   "cell_type": "code",
   "execution_count": 43,
   "id": "07decb74",
   "metadata": {},
   "outputs": [
    {
     "name": "stdout",
     "output_type": "stream",
     "text": [
      "1100011\n"
     ]
    }
   ],
   "source": [
    "print(convert_to_binary(99))"
   ]
  }
 ],
 "metadata": {
  "kernelspec": {
   "display_name": "Python 3",
   "language": "python",
   "name": "python3"
  },
  "language_info": {
   "codemirror_mode": {
    "name": "ipython",
    "version": 3
   },
   "file_extension": ".py",
   "mimetype": "text/x-python",
   "name": "python",
   "nbconvert_exporter": "python",
   "pygments_lexer": "ipython3",
   "version": "3.13.3"
  }
 },
 "nbformat": 4,
 "nbformat_minor": 5
}
